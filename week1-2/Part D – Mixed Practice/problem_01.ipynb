{
 "cells": [
  {
   "cell_type": "markdown",
   "id": "a1431418-1c12-4a1f-9dcd-c1af8ab93f4b",
   "metadata": {},
   "source": [
    "### **Problems**\n",
    "\n",
    "A password consists of 4 distinct letters (A–Z).\n",
    "\n",
    "   * (a) How many possible passwords are there?\n",
    "   * (b) How many if the password must start with a vowel?"
   ]
  },
  {
   "cell_type": "markdown",
   "id": "669863ba-a641-4986-bae0-979049eabc09",
   "metadata": {},
   "source": [
    "### **Solutions**\n",
    "\n",
    "**Given:** 4 distinct letters, letters A–Z (26 total), vowels = {A, E, I, O, U} = 5\n",
    "\n",
    "\n",
    "#### (a) No restrictions\n",
    "\n",
    "* 1st letter: 26 choices\n",
    "* 2nd letter: 25\n",
    "* 3rd letter: 24\n",
    "* 4th letter: 23\n",
    "\n",
    "$$\n",
    "26 \\times 25 \\times 24 \\times 23 = 358{,}800\n",
    "$$\n",
    "\n",
    "**358,800 passwords**\n",
    "\n",
    "\n",
    "#### (b) Must start with a vowel\n",
    "\n",
    "* 1st letter: 5 choices (vowel)\n",
    "* 2nd letter: 25 choices (any remaining letter)\n",
    "* 3rd letter: 24\n",
    "* 4th letter: 23\n",
    "\n",
    "$$\n",
    "5 \\times 25 \\times 24 \\times 23 = 69{,}000\n",
    "$$\n",
    "\n",
    "**69,000 passwords**\n"
   ]
  }
 ],
 "metadata": {
  "kernelspec": {
   "display_name": "Python 3 (ipykernel)",
   "language": "python",
   "name": "python3"
  },
  "language_info": {
   "codemirror_mode": {
    "name": "ipython",
    "version": 3
   },
   "file_extension": ".py",
   "mimetype": "text/x-python",
   "name": "python",
   "nbconvert_exporter": "python",
   "pygments_lexer": "ipython3",
   "version": "3.12.6"
  }
 },
 "nbformat": 4,
 "nbformat_minor": 5
}
