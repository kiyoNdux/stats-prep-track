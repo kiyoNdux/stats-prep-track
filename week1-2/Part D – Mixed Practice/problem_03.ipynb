{
 "cells": [
  {
   "cell_type": "markdown",
   "id": "d9191516-8d05-4bd5-b5ac-1923cfed2c97",
   "metadata": {},
   "source": [
    "### **Problems**\n",
    "\n",
    "Out of 20 students, 12 like pizza, 8 like burgers, and 5 like both.\n",
    "\n",
    "   * (a) How many like at least one of the two?\n",
    "   * (b) How many like neither?\n",
    "   * (c) If a student is chosen at random, what is the probability they like pizza but not burgers?"
   ]
  },
  {
   "cell_type": "markdown",
   "id": "5eb7388b-92a0-4851-ae15-d925a60eb7d6",
   "metadata": {},
   "source": [
    "### **Solutions**\n",
    "\n",
    "**Given:**\n",
    "\n",
    "* Total students = 20\n",
    "* Pizza = 12\n",
    "* Burgers = 8\n",
    "* Both = 5\n",
    "\n",
    "\n",
    "#### (a) At least one\n",
    "\n",
    "$$\n",
    "|Pizza \\cup Burgers| = |Pizza| + |Burgers| - |Both| = 12 + 8 - 5 = 15\n",
    "$$\n",
    "\n",
    "\n",
    "\n",
    "#### (b) Neither\n",
    "\n",
    "$$\n",
    "20 - 15 = 5\n",
    "$$\n",
    "\n",
    "\n",
    "\n",
    "#### (c) Probability pizza but not burgers\n",
    "\n",
    "$$\n",
    "|Pizza \\text{ only}| = |Pizza| - |Both| = 12 - 5 = 7\n",
    "$$\n",
    "\n",
    "Probability = $\\frac{7}{20}$\n"
   ]
  }
 ],
 "metadata": {
  "kernelspec": {
   "display_name": "Python 3 (ipykernel)",
   "language": "python",
   "name": "python3"
  },
  "language_info": {
   "codemirror_mode": {
    "name": "ipython",
    "version": 3
   },
   "file_extension": ".py",
   "mimetype": "text/x-python",
   "name": "python",
   "nbconvert_exporter": "python",
   "pygments_lexer": "ipython3",
   "version": "3.12.6"
  }
 },
 "nbformat": 4,
 "nbformat_minor": 5
}
