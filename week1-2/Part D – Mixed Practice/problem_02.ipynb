{
 "cells": [
  {
   "cell_type": "markdown",
   "id": "e5483a8d-9573-467a-a14f-c7f0b90b3920",
   "metadata": {},
   "source": [
    "### **Problems**\n",
    "\n",
    "A committee of 4 is to be chosen from 10 people.\n",
    "\n",
    "   * (a) How many different committees are possible?\n",
    "   * (b) How many if one specific person must be included?"
   ]
  },
  {
   "cell_type": "markdown",
   "id": "d0b6d87b-9494-418e-8bb7-61a3c07ea506",
   "metadata": {},
   "source": [
    "### **Solutions**\n",
    "\n",
    "#### (a) No restrictions\n",
    "\n",
    "Choose 4 out of 10 → combination formula:\n",
    "\n",
    "$$\n",
    "\\binom{10}{4} = \\frac{10!}{4! \\, 6!} = 210\n",
    "$$\n",
    "\n",
    "**210 committees**\n",
    "\n",
    "\n",
    "#### (b) One specific person must be included\n",
    "\n",
    "* That person is already chosen → choose 3 more from remaining 9:\n",
    "\n",
    "$$\n",
    "\\binom{9}{3} = \\frac{9!}{3! \\, 6!} = 84\n",
    "$$\n",
    "\n",
    "**84 committees**\n"
   ]
  }
 ],
 "metadata": {
  "kernelspec": {
   "display_name": "Python 3 (ipykernel)",
   "language": "python",
   "name": "python3"
  },
  "language_info": {
   "codemirror_mode": {
    "name": "ipython",
    "version": 3
   },
   "file_extension": ".py",
   "mimetype": "text/x-python",
   "name": "python",
   "nbconvert_exporter": "python",
   "pygments_lexer": "ipython3",
   "version": "3.12.6"
  }
 },
 "nbformat": 4,
 "nbformat_minor": 5
}
