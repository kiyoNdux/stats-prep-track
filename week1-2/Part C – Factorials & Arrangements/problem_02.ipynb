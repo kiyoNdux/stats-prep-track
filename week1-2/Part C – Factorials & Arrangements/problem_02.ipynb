{
 "cells": [
  {
   "cell_type": "markdown",
   "id": "0d8b25c0-9121-4e75-8edb-86a953b9556b",
   "metadata": {},
   "source": [
    "### **Problem**\n",
    "\n",
    "How many different ways can 7 books be arranged on a shelf?"
   ]
  },
  {
   "cell_type": "markdown",
   "id": "ddff3cf0-1767-4aa4-9465-ad114e767fd5",
   "metadata": {},
   "source": [
    "### **Solution**\n",
    "\n",
    "Number of arrangements of 7 distinct books = $7!$\n",
    "\n",
    "$$\n",
    "7! = 7 \\times 6 \\times 5 \\times 4 \\times 3 \\times 2 \\times 1 = 5040\n",
    "$$\n",
    "\n",
    "**5040 ways**\n"
   ]
  }
 ],
 "metadata": {
  "kernelspec": {
   "display_name": "Python 3 (ipykernel)",
   "language": "python",
   "name": "python3"
  },
  "language_info": {
   "codemirror_mode": {
    "name": "ipython",
    "version": 3
   },
   "file_extension": ".py",
   "mimetype": "text/x-python",
   "name": "python",
   "nbconvert_exporter": "python",
   "pygments_lexer": "ipython3",
   "version": "3.12.6"
  }
 },
 "nbformat": 4,
 "nbformat_minor": 5
}
