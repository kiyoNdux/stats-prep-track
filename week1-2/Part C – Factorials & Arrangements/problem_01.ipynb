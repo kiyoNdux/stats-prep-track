{
 "cells": [
  {
   "cell_type": "markdown",
   "id": "27de084a-0cd8-4d5e-8144-45b4ef79a3ba",
   "metadata": {},
   "source": [
    "### **Problems**\n",
    "\n",
    "Compute:\n",
    "\n",
    "   * (a) $6!$\n",
    "   * (b) $\\frac{10!}{7!}$\n",
    "   * (c) $\\frac{8!}{3! \\cdot 5!}$"
   ]
  },
  {
   "cell_type": "markdown",
   "id": "b0f6e4c2-549b-4bd5-a463-ce05d3b56c4f",
   "metadata": {},
   "source": [
    "### **Solutions**\n",
    "\n",
    "**(a)** $6! = 6 \\times 5 \\times 4 \\times 3 \\times 2 \\times 1 = 720$\n",
    "\n",
    "\n",
    "**(b)** $\\frac{10!}{7!} = \\frac{10 \\times 9 \\times 8 \\times 7!}{7!} = 10 \\times 9 \\times 8 = 720$\n",
    "\n",
    "\n",
    "\n",
    "**(c)**$\\frac{8!}{3! \\cdot 5!} = \\frac{8 \\times 7 \\times 6 \\times 5!}{3! \\cdot 5!} \n",
    "= \\frac{8 \\times 7 \\times 6}{3!} \n",
    "= \\frac{336}{6} = 56$\n"
   ]
  }
 ],
 "metadata": {
  "kernelspec": {
   "display_name": "Python 3 (ipykernel)",
   "language": "python",
   "name": "python3"
  },
  "language_info": {
   "codemirror_mode": {
    "name": "ipython",
    "version": 3
   },
   "file_extension": ".py",
   "mimetype": "text/x-python",
   "name": "python",
   "nbconvert_exporter": "python",
   "pygments_lexer": "ipython3",
   "version": "3.12.6"
  }
 },
 "nbformat": 4,
 "nbformat_minor": 5
}
