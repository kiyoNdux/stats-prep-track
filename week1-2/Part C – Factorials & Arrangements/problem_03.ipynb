{
 "cells": [
  {
   "cell_type": "markdown",
   "id": "beb0d314-389f-4523-ae4b-c1bb52aae96a",
   "metadata": {},
   "source": [
    "### **Problems**\n",
    "\n",
    "In how many ways can the letters of the word **PROBABILITY** be arranged?\n",
    "\n",
    "   * (a) Without restrictions.\n",
    "   * (b) If all the vowels must be together."
   ]
  },
  {
   "cell_type": "markdown",
   "id": "9ae7677a-dcdd-49bb-bec0-5d07f5d35b02",
   "metadata": {},
   "source": [
    "### **Solutions**\n",
    "\n",
    "The word **PROBABILITY** has 11 letters:\n",
    "\n",
    "* P, R, O, B, A, B, I, L, I, T, Y\n",
    "* Repeated letters: B appears **2 times**, I appears **2 times**\n",
    "\n",
    "\n",
    "#### (a) Without restrictions\n",
    "\n",
    "Use the formula for permutations of multiset:\n",
    "\n",
    "$$\n",
    "\\text{Total arrangements} = \\frac{11!}{2! \\cdot 2!} = \\frac{39{,}916{,}800}{4} = 9{,}979{,}200\n",
    "$$\n",
    "\n",
    "**9,979,200 arrangements**\n",
    "\n",
    "\n",
    "#### (b) All vowels together\n",
    "\n",
    "Vowels: O, A, I, I → treat as a single “super letter” → 8 letters (7 consonants + 1 vowel block)\n",
    "\n",
    "* Arrangements of 8 “letters”: $\\frac{8!}{2!} = \\frac{40{,}320}{2} = 20{,}160$ (divide by 2! for repeated B)\n",
    "* Arrangements within vowel block: $\\frac{4!}{2!} = \\frac{24}{2} = 12$ (I repeats)\n",
    "\n",
    "Total = $20{,}160 \\times 12 = 241{,}920$\n",
    "\n",
    "**241,920 arrangements**\n"
   ]
  }
 ],
 "metadata": {
  "kernelspec": {
   "display_name": "Python 3 (ipykernel)",
   "language": "python",
   "name": "python3"
  },
  "language_info": {
   "codemirror_mode": {
    "name": "ipython",
    "version": 3
   },
   "file_extension": ".py",
   "mimetype": "text/x-python",
   "name": "python",
   "nbconvert_exporter": "python",
   "pygments_lexer": "ipython3",
   "version": "3.12.6"
  }
 },
 "nbformat": 4,
 "nbformat_minor": 5
}
