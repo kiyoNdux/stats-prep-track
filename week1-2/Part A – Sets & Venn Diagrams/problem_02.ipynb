{
 "cells": [
  {
   "cell_type": "markdown",
   "id": "114e3d0a-731e-47ff-a6bc-b38323c2baab",
   "metadata": {},
   "source": [
    "### **Problems**\n",
    "\n",
    "In a group of 100 students:\n",
    "\n",
    " **60** take Math,\n",
    " **45** take Physics,\n",
    " **25** take both.\n",
    "   * (a) How many take at least one subject?\n",
    "   * (b) How many take neither?\n",
    "   * (c) Represent the information in a Venn diagram."
   ]
  },
  {
   "cell_type": "markdown",
   "id": "d59b345a-48d4-4442-ad8b-1470a0684f98",
   "metadata": {},
   "source": [
    "### **Solutions**\n",
    "\n",
    "\n",
    "- **(a)** At least one = $60 + 45 - 25 = 80$\n",
    "- **(b)** Neither = $100 - 80 = 20$\n",
    "- **(c)** Venn regions → Math only: 35, Physics only: 20, Both: 25, Neither: 20\n"
   ]
  }
 ],
 "metadata": {
  "kernelspec": {
   "display_name": "Python 3 (ipykernel)",
   "language": "python",
   "name": "python3"
  },
  "language_info": {
   "codemirror_mode": {
    "name": "ipython",
    "version": 3
   },
   "file_extension": ".py",
   "mimetype": "text/x-python",
   "name": "python",
   "nbconvert_exporter": "python",
   "pygments_lexer": "ipython3",
   "version": "3.12.6"
  }
 },
 "nbformat": 4,
 "nbformat_minor": 5
}
