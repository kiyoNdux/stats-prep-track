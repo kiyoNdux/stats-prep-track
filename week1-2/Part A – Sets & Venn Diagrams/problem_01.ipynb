{
 "cells": [
  {
   "cell_type": "markdown",
   "id": "abefcb92-58be-42d8-83d5-8dcd9354c79c",
   "metadata": {},
   "source": [
    "### **Problems**\n",
    "\n",
    "Let $U = \\{1,2,3,4,5,6,7,8,9,10\\}$, $A = \\{2,4,6,8,10\\}$, $B = \\{1,2,3,4,5\\}$.\n",
    "\n",
    "   * (a) Find $A \\cup B$.\n",
    "   * (b) Find $A \\cap B$.\n",
    "   * (c) Find $A^c$ (complement of A with respect to U).\n",
    "   * (d) Find $B^c$."
   ]
  },
  {
   "cell_type": "markdown",
   "id": "24dcfce6-6343-4bad-b732-a4f5a0d0bee3",
   "metadata": {},
   "source": [
    "### **Solutions**\n",
    "\n",
    "**Given:**\n",
    "\n",
    "$U=\\{1,2,3,4,5,6,7,8,9,10\\},\\; A=\\{2,4,6,8,10\\},\\; B=\\{1,2,3,4,5\\}$.\n",
    "\n",
    "\n",
    "**(a) $A \\cup B$:** combine all → $\\{1,2,3,4,5,6,8,10\\}$.\n",
    "\n",
    "**(b) $A \\cap B$:** common elements → $\\{2,4\\}$\n",
    "\n",
    "**(c) $A^c$:** in $U$ but not in $A$ → $\\{1,3,5,7,9\\}$.\n",
    "\n",
    "**(d) $B^c$:** in $U$ but not in $B$ → $\\{6,7,8,9,10\\}$.\n",
    "\n"
   ]
  }
 ],
 "metadata": {
  "kernelspec": {
   "display_name": "Python 3 (ipykernel)",
   "language": "python",
   "name": "python3"
  },
  "language_info": {
   "codemirror_mode": {
    "name": "ipython",
    "version": 3
   },
   "file_extension": ".py",
   "mimetype": "text/x-python",
   "name": "python",
   "nbconvert_exporter": "python",
   "pygments_lexer": "ipython3",
   "version": "3.12.6"
  }
 },
 "nbformat": 4,
 "nbformat_minor": 5
}
