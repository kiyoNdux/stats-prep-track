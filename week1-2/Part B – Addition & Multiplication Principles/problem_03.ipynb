{
 "cells": [
  {
   "cell_type": "markdown",
   "id": "63039cf7-256a-4d3c-b72a-f8948a96c683",
   "metadata": {},
   "source": [
    "### **Problems**\n",
    "\n",
    "A 3-digit number is formed using digits 0–9.\n",
    "\n",
    "   * (a) How many such numbers are possible if repetition is allowed?\n",
    "   * (b) How many if repetition is not allowed?\n",
    "   * (c) How many if repetition is not allowed **and** the number must be even?"
   ]
  },
  {
   "cell_type": "markdown",
   "id": "6e8fc04d-42fb-44e4-9bf6-e565199ad1ec",
   "metadata": {},
   "source": [
    "### **Solutions**\n",
    "\n",
    "\n",
    "**(a) Repetition allowed**\n",
    "\n",
    "* First digit (hundreds place) can’t be 0 → 9 choices (1–9).\n",
    "* Second digit: 10 choices (0–9).\n",
    "* Third digit: 10 choices (0–9).\n",
    "\n",
    "$$\n",
    "9 \\times 10 \\times 10 = 900\n",
    "$$\n",
    "\n",
    "**900 numbers**\n",
    "\n",
    "\n",
    "**(b) No repetition**\n",
    "\n",
    "* First digit: 9 choices (1–9).\n",
    "* Second digit: 9 choices (since one digit already used, still can include 0).\n",
    "* Third digit: 8 choices.\n",
    "\n",
    "$$\n",
    "9 \\times 9 \\times 8 = 648\n",
    "$$\n",
    "\n",
    "**648 numbers**\n",
    "\n",
    "\n",
    "**(c) No repetition, must be even**\n",
    "Last digit must be even → digits $\\{0,2,4,6,8\\}$ = 5 options.\n",
    "Now split into cases:\n",
    "\n",
    "* **Case 1:** Last digit = 0\n",
    "\n",
    "  * First digit: 9 choices (1–9).\n",
    "  * Second digit: 8 choices.\n",
    "  * Count = $9 \\times 8 \\times 1 = 72$.\n",
    "\n",
    "* **Case 2:** Last digit ≠ 0 (2,4,6,8 → 4 choices)\n",
    "\n",
    "  * First digit: 8 choices (can’t be 0 and can’t be the last digit).\n",
    "  * Second digit: 8 choices (from remaining).\n",
    "  * Count = $4 \\times 8 \\times 8 = 256$.\n",
    "\n",
    "Total = $72 + 256 = 328$.\n",
    "\n",
    "**328 numbers**"
   ]
  }
 ],
 "metadata": {
  "kernelspec": {
   "display_name": "Python 3 (ipykernel)",
   "language": "python",
   "name": "python3"
  },
  "language_info": {
   "codemirror_mode": {
    "name": "ipython",
    "version": 3
   },
   "file_extension": ".py",
   "mimetype": "text/x-python",
   "name": "python",
   "nbconvert_exporter": "python",
   "pygments_lexer": "ipython3",
   "version": "3.12.6"
  }
 },
 "nbformat": 4,
 "nbformat_minor": 5
}
