{
 "cells": [
  {
   "cell_type": "markdown",
   "id": "5ec01adf-575f-473d-bbbf-2fa3362930eb",
   "metadata": {},
   "source": [
    "### **Problems**\n",
    "\n",
    "License plates consist of 3 letters followed by 3 digits.\n",
    "\n",
    "   * (a) How many license plates are possible if repetition of letters and digits is allowed?\n",
    "   * (b) How many if repetition is **not** allowed?"
   ]
  },
  {
   "cell_type": "markdown",
   "id": "df1b562e-82a6-4e48-8bf7-fd1265b0a2e5",
   "metadata": {},
   "source": [
    "### **Solutions**\n",
    "\n",
    "\n",
    "**(a) With repetition allowed**\n",
    "\n",
    "* 3 letters: $26^3$\n",
    "* 3 digits: $10^3$\n",
    "\n",
    "$$\n",
    "26^3 \\times 10^3 = 17{,}576 \\times 1{,}000 = 17{,}576{,}000\n",
    "$$\n",
    "\n",
    "**17,576,000 plates**\n",
    "\n",
    "\n",
    "**(b) Without repetition**\n",
    "\n",
    "* 3 letters: $26 \\times 25 \\times 24$\n",
    "* 3 digits: $10 \\times 9 \\times 8$\n",
    "\n",
    "$$\n",
    "(26 \\times 25 \\times 24) \\times (10 \\times 9 \\times 8) = 15{,}600 \\times 720 = 11{,}232{,}000\n",
    "$$\n",
    "\n",
    "**11,232,000 plates**\n"
   ]
  }
 ],
 "metadata": {
  "kernelspec": {
   "display_name": "Python 3 (ipykernel)",
   "language": "python",
   "name": "python3"
  },
  "language_info": {
   "codemirror_mode": {
    "name": "ipython",
    "version": 3
   },
   "file_extension": ".py",
   "mimetype": "text/x-python",
   "name": "python",
   "nbconvert_exporter": "python",
   "pygments_lexer": "ipython3",
   "version": "3.12.6"
  }
 },
 "nbformat": 4,
 "nbformat_minor": 5
}
