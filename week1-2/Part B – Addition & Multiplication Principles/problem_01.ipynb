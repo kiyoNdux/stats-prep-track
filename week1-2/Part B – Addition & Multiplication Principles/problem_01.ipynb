{
 "cells": [
  {
   "cell_type": "markdown",
   "id": "247d1b6a-b338-4699-a403-e41465c2b154",
   "metadata": {},
   "source": [
    "### **Problem**\n",
    "\n",
    "A cafeteria offers 3 types of sandwiches, 4 types of drinks, and 2 desserts.\n",
    "\n",
    "   * How many different meal combinations (sandwich + drink + dessert) can a student make?\n"
   ]
  },
  {
   "cell_type": "markdown",
   "id": "badcc395-3ef5-4849-a69c-1cc7e6ba2f2c",
   "metadata": {},
   "source": [
    "### **Solution**\n",
    "\n",
    "Each meal = **sandwich × drink × dessert**\n",
    "\n",
    "$$\n",
    "3 \\times 4 \\times 2 = 24\n",
    "$$\n",
    "\n",
    "**24 different meal combinations**\n"
   ]
  }
 ],
 "metadata": {
  "kernelspec": {
   "display_name": "Python 3 (ipykernel)",
   "language": "python",
   "name": "python3"
  },
  "language_info": {
   "codemirror_mode": {
    "name": "ipython",
    "version": 3
   },
   "file_extension": ".py",
   "mimetype": "text/x-python",
   "name": "python",
   "nbconvert_exporter": "python",
   "pygments_lexer": "ipython3",
   "version": "3.12.6"
  }
 },
 "nbformat": 4,
 "nbformat_minor": 5
}
